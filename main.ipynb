{
 "cells": [
  {
   "cell_type": "code",
   "execution_count": 19,
   "outputs": [],
   "source": [
    "import random\n",
    "import time\n",
    "import enum\n",
    "import math\n",
    "from collections import namedtuple\n",
    "from multiprocessing.pool import Pool\n",
    "from typing import Tuple, NamedTuple, List\n",
    "from tqdm import tqdm\n",
    "\n",
    "import numpy as np\n",
    "import pandas as pd\n",
    "import pylab as plt\n",
    "import networkx as nx\n",
    "from matplotlib.colors import ListedColormap, LinearSegmentedColormap\n",
    "import matplotlib as mpl\n",
    "import plotnine as p9\n",
    "import scipy\n",
    "import sys\n",
    "\n",
    "sys.path.insert(0, \"./lib\")\n",
    "\n",
    "from lib.networkgen import Network, NetworkType\n",
    "from lib.model import ModelWrapper\n",
    "from lib.modelgen import Model, SEIZplusModel, SEIZMModel, MoneyAgent\n",
    "ModelType = Model.ModelType"
   ],
   "metadata": {
    "collapsed": false,
    "pycharm": {
     "name": "#%%\n"
    }
   }
  },
  {
   "cell_type": "code",
   "execution_count": 61,
   "outputs": [],
   "source": [
    " # TODO: Simulation parameters\n",
    "\n",
    "params = {\n",
    "    ModelType.SIR: { # TODO\n",
    "        'model': None,\n",
    "        'agent': None\n",
    "    },\n",
    "    ModelType.SEIZ: { # TODO\n",
    "        'model': None,\n",
    "        'agent': None\n",
    "    },\n",
    "    ModelType.SEIZplus: {\n",
    "        'model': SEIZplusModel.Params(\n",
    "            initial_infected=0.05,\n",
    "            initial_skeptics=0.02,\n",
    "            prob_S_with_I=0.3,\n",
    "            prob_S_with_Z=0.2,\n",
    "            neighbor_threshold=0.7\n",
    "        ),\n",
    "        'agent': None,\n",
    "        'state_labels': [(\"Susceptible\", 'cornflowerblue'), (\"Exposed\", \"orange\"), (\"Skeptic\",\"green\"), (\"Infected\",'red')]\n",
    "    },\n",
    "    ModelType.SEIZM: { # TODO\n",
    "        'model': SEIZMModel.Params(\n",
    "            initial_infected = 0.2,\n",
    "            initial_skeptics = 0.05,\n",
    "            prob_S_with_I = 0.1,\n",
    "            prob_S_with_Z = 0.2,\n",
    "            certainty_threshold = 0.3,\n",
    "            influence_threshold = 0.3,\n",
    "            money_theshold = 0.3,\n",
    "            influence_increase = 0.1,\n",
    "            certainty_increase = 0.1,\n",
    "            neighbor_threshold = 0.8\n",
    "        ),\n",
    "        'agent': MoneyAgent.Params(\n",
    "            0.5,    # certainty\n",
    "            0.5,    # influence\n",
    "            0,      # money\n",
    "            0.5     # sentiment\n",
    "        ),\n",
    "        'state_labels': [(\"Susceptible\", 'cornflowerblue'), (\"Exposed\", \"orange\"), (\"Skeptic\",\"green\"), (\"Infected\",'red')]\n",
    "    }\n",
    "}\n",
    "\n",
    "network_params = {\n",
    "    NetworkType.CAVEMAN: (15, 5),  # (l, k)\n",
    "    NetworkType.WINDMILL: (100, 10),  # (n, k)\n",
    "    NetworkType.SMALLWORLD: None\n",
    "}"
   ],
   "metadata": {
    "collapsed": false,
    "pycharm": {
     "name": "#%%\n"
    }
   }
  },
  {
   "cell_type": "code",
   "execution_count": 62,
   "outputs": [],
   "source": [
    "# TODO: Model Generation\n",
    "\n",
    "def create_model(dynamics, network):\n",
    "    # dynamics = ModelType.SEIZplus\n",
    "    # network = NetworkType.CAVEMAN\n",
    "\n",
    "    model = ModelWrapper(\n",
    "        model_type=dynamics,\n",
    "        model_params=params[dynamics]['model'],\n",
    "        agent_params=params[dynamics]['agent'],\n",
    "        network_type=network,\n",
    "        network_params=network_params[network]\n",
    "    )\n",
    "\n",
    "    return model"
   ],
   "metadata": {
    "collapsed": false,
    "pycharm": {
     "name": "#%%\n"
    }
   }
  },
  {
   "cell_type": "code",
   "execution_count": 63,
   "metadata": {
    "collapsed": true
   },
   "outputs": [],
   "source": [
    "# TODO: Uncertainty Plot\n",
    "\n",
    "#convenience function to collect plotable data\n",
    "\n",
    "def sum_agents(model, state_labels):\n",
    "    agent_data = model.data_collector().get_agent_vars_dataframe()\n",
    "\n",
    "    # sum up different opinions each (time) step\n",
    "    agents_summed = pd.pivot_table(agent_data.reset_index(), index = 'Step', columns = 'State', aggfunc = np.size, fill_value = 0)\n",
    "    # relabel\n",
    "    labels = [l[0] for l in state_labels]\n",
    "    agents_summed.columns = labels\n",
    "    return agents_summed\n",
    "\n",
    "def run_replicates(new_model, state_labels, n_replicates, n_steps):\n",
    "\n",
    "    for i in tqdm(range(n_replicates), desc=\"Run:\"):\n",
    "\n",
    "        #(re-)initiate model\n",
    "        model = new_model()\n",
    "\n",
    "        #run model\n",
    "        model.run(n_steps)\n",
    "\n",
    "        #data collection\n",
    "        if i == 0:\n",
    "            replicates = sum_agents(model, state_labels)\n",
    "        else:\n",
    "            replicates = pd.concat([replicates, sum_agents(model, state_labels)])\n",
    "\n",
    "    #calculate means and standard error of the mean\n",
    "    replicates = pd.pivot_table(replicates, index = [\"Step\"], aggfunc = [np.mean, scipy.stats.sem])\n",
    "\n",
    "    return replicates\n",
    "\n",
    "def plot_trajectories(data, colors_ggplot):\n",
    "    # data wrangling for ggplot\n",
    "    data = data.stack(level=1).reset_index(1).rename(columns={\"level_1\": \"Population\"}).sort_values(\"Population\")\n",
    "    data.reset_index(inplace=True)\n",
    "    data = data.rename(columns = {'index':'Step'})\n",
    "\n",
    "    #ggplot\n",
    "    plot = (p9.ggplot(data, p9.aes(x = 'Step', y = \"mean\", fill = \"Population\", group = \"Population\", color = \"Population\"))\n",
    "    + p9.geom_line()\n",
    "    + p9.geom_ribbon(p9.aes(x = 'Step', ymin = data[\"mean\"] - data[\"sem\"], ymax = data[\"mean\"] + data[\"sem\"]), outline_type = \"none\", alpha = 0.25, show_legend = False)\n",
    "    + p9.ylab(\"Population size\")\n",
    "    + p9.xlab(\"Step\")\n",
    "    + p9.scale_color_manual(values = colors_ggplot)\n",
    "    + p9.scale_fill_manual(values = colors_ggplot)\n",
    "    + p9.ylim(0, max(data['mean']))\n",
    "    + p9.theme_classic()\n",
    "    )\n",
    "\n",
    "    return plot"
   ]
  },
  {
   "cell_type": "code",
   "execution_count": 64,
   "outputs": [],
   "source": [
    "# TODO: Graph Plots from Jose"
   ],
   "metadata": {
    "collapsed": false,
    "pycharm": {
     "name": "#%%\n"
    }
   }
  },
  {
   "cell_type": "code",
   "execution_count": 65,
   "outputs": [],
   "source": [
    "# TODO: Density Plots"
   ],
   "metadata": {
    "collapsed": false,
    "pycharm": {
     "name": "#%%\n"
    }
   }
  },
  {
   "cell_type": "code",
   "execution_count": 66,
   "outputs": [],
   "source": [
    "# TODO: (Graph snapshots)"
   ],
   "metadata": {
    "collapsed": false,
    "pycharm": {
     "name": "#%%\n"
    }
   }
  },
  {
   "cell_type": "code",
   "execution_count": 67,
   "outputs": [],
   "source": [
    "# TODO: Phase Diagram"
   ],
   "metadata": {
    "collapsed": false,
    "pycharm": {
     "name": "#%%\n"
    }
   }
  },
  {
   "cell_type": "code",
   "execution_count": 68,
   "outputs": [],
   "source": [
    "# TODO:"
   ],
   "metadata": {
    "collapsed": false,
    "pycharm": {
     "name": "#%%\n"
    }
   }
  },
  {
   "cell_type": "code",
   "execution_count": 70,
   "outputs": [
    {
     "name": "stderr",
     "output_type": "stream",
     "text": [
      "Run:: 100%|██████████| 10/10 [00:57<00:00,  5.76s/it]\n"
     ]
    },
    {
     "data": {
      "text/plain": "<Figure size 640x480 with 1 Axes>",
      "image/png": "[encoded data removed]"
     },
     "metadata": {},
     "output_type": "display_data"
    },
    {
     "data": {
      "text/plain": "<ggplot: (8781953467805)>"
     },
     "execution_count": 70,
     "metadata": {},
     "output_type": "execute_result"
    }
   ],
   "source": [
    "dynamics, network = ModelType.SEIZM, NetworkType.WINDMILL\n",
    "\n",
    "df = run_replicates(\n",
    "    lambda: create_model(dynamics, network),\n",
    "    state_labels=params[dynamics]['state_labels'],\n",
    "    n_replicates=10,\n",
    "    n_steps=100)\n",
    "\n",
    "plot_trajectories(df, {label: color for label, color in params[dynamics]['state_labels']})"
   ],
   "metadata": {
    "collapsed": false,
    "pycharm": {
     "name": "#%%\n"
    }
   }
  },
  {
   "cell_type": "code",
   "execution_count": 69,
   "outputs": [],
   "source": [],
   "metadata": {
    "collapsed": false,
    "pycharm": {
     "name": "#%%\n"
    }
   }
  },
  {
   "cell_type": "code",
   "execution_count": 44,
   "outputs": [],
   "source": [],
   "metadata": {
    "collapsed": false,
    "pycharm": {
     "name": "#%%\n"
    }
   }
  },
  {
   "cell_type": "code",
   "execution_count": null,
   "outputs": [],
   "source": [],
   "metadata": {
    "collapsed": false,
    "pycharm": {
     "name": "#%%\n"
    }
   }
  }
 ],
 "metadata": {
  "kernelspec": {
   "display_name": "Python 3",
   "language": "python",
   "name": "python3"
  },
  "language_info": {
   "codemirror_mode": {
    "name": "ipython",
    "version": 2
   },
   "file_extension": ".py",
   "mimetype": "text/x-python",
   "name": "python",
   "nbconvert_exporter": "python",
   "pygments_lexer": "ipython2",
   "version": "2.7.6"
  }
 },
 "nbformat": 4,
 "nbformat_minor": 0
}