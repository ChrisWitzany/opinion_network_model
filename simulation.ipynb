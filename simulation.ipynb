{
 "cells": [
  {
   "cell_type": "code",
   "execution_count": 1,
   "metadata": {
    "collapsed": true
   },
   "outputs": [],
   "source": [
    "import random\n",
    "import time\n",
    "import enum\n",
    "import math\n",
    "from collections import namedtuple\n",
    "from multiprocessing.pool import Pool\n",
    "from typing import Tuple, NamedTuple, List\n",
    "from tqdm import tqdm\n",
    "\n",
    "import numpy as np\n",
    "import pandas as pd\n",
    "import pylab as plt\n",
    "import networkx as nx\n",
    "from matplotlib.colors import ListedColormap, LinearSegmentedColormap\n",
    "import matplotlib as mpl\n",
    "from scipy.ndimage.filters import gaussian_filter\n",
    "\n",
    "from networkgen import Network, NetworkType\n",
    "from model import OpinionModel, OpinionAgent, Opinion"
   ]
  },
  {
   "cell_type": "code",
   "execution_count": 2,
   "metadata": {},
   "outputs": [],
   "source": [
    "#n, p = 100, 0.3 # DEFAULT\n",
    "#n, k, p = 100, 10, 0.2 # SMALLWORLD\n",
    "#l, k = 10, 5 # CAVEMAN\n",
    "#n, s, v, p_in, p_out = 100, 5, 10, 0.3, 0.1 # GAUSSIAN_RANDOM_PARTITION\n",
    "#n, k = 100, 10 # WINDMILL\n",
    "#n, p = 100, 0.02  # ERDOS_RENYI\n",
    "l, k, p, f = 6, 5, 0.1, 0.1 # RELAXED_CAVEMAN\n",
    "\n",
    "network_params = (l, k, p, f)\n",
    "initial_believers = 1.0\n",
    "agent_params = OpinionAgent.Params(initial_opinion=0.25, weight_decay=0.0)\n",
    "model = OpinionModel(initial_believers, agent_params, network_type=NetworkType.RELAXED_CAVEMAN, network_params=network_params)"
   ]
  },
  {
   "cell_type": "code",
   "execution_count": 3,
   "metadata": {},
   "outputs": [],
   "source": [
    "model.run(40)\n"
   ]
  },
  {
   "cell_type": "code",
   "execution_count": 4,
   "metadata": {},
   "outputs": [],
   "source": [
    "#not used anymore\n",
    "def create_model(network_type, *network_params, initial_believers: float, initial_opinion, weight_decay):\n",
    "    #n = len(Network.generate(network_type, *params).nodes)\n",
    "    agent_params = OpinionAgent.Params(initial_opinion, weight_decay)\n",
    "    return OpinionModel(initial_believers, agent_params, network_type, *network_params)"
   ]
  },
  {
   "cell_type": "code",
   "execution_count": 5,
   "metadata": {
    "collapsed": false,
    "pycharm": {
     "name": "#%%\n"
    }
   },
   "outputs": [],
   "source": [
    "def sum_agents(model):\n",
    "\n",
    "    agent_data = model.data_collector.get_agent_vars_dataframe()\n",
    "    # sum up different opinions each (time) step\n",
    "    agents_summed = pd.pivot_table(agent_data.reset_index(), index = 'Step', columns = 'State', aggfunc = np.size, fill_value = 0)\n",
    "    # relabel\n",
    "    labels = ['Disagree','Believer','Unsure']\n",
    "    agents_summed.columns = labels[:len(agents_summed.columns)]\n",
    "    return agents_summed\n",
    "\n",
    "def plot_agent_opinion(model):\n",
    "    steps = model.schedule.steps\n",
    "    X = sum_agents(model)\n",
    "    X.plot(lw = 4, alpha = 0.8)"
   ]
  },
  {
   "cell_type": "code",
   "execution_count": 6,
   "metadata": {},
   "outputs": [],
   "source": [
    "def draw_network(with_labels=False):\n",
    "    node_color = [i.state for i in model.grid.get_all_cell_contents()]\n",
    "    edge_weights = [model.network.edges[u, v]['weight'] for u, v in model.network.edges]\n",
    "    #layout = nx.kamada_kawai_layout(model.network, weight=1.0, scale=10)\n",
    "    dummy = nx.connected_caveman_graph(7, 5)\n",
    "    layout=nx.circular_layout(model.network)\n",
    "    #layout = nx.circular_layout(model.network, scale=10)\n",
    "    nx.draw_networkx(model.network, pos=layout, node_size = 100, arrowsize=5.0, edge_cmap=plt.cm.binary, edge_color=edge_weights, node_color=node_color, cmap=plt.cm.plasma, edge_vmin=0.0, edge_vmax=1.0, vmin=0.0,vmax=1.0, with_labels=with_labels, labels={i: f\"{node_color[i]:.2f}\" for i in range(len(node_color))})\n",
    "    plt.colorbar(plt.cm.ScalarMappable(norm=mpl.colors.Normalize(0,1), cmap=plt.cm.plasma))"
   ]
  },
  {
   "cell_type": "code",
   "execution_count": 7,
   "metadata": {},
   "outputs": [],
   "source": [
    "def draw_network_discrete():\n",
    "    color_code = ListedColormap(['#1f77b4', '#ff7f0e', '#2ca02c'])\n",
    "\n",
    "    states = [int(i.state) for i in model.grid.get_all_cell_contents()]\n",
    "\n",
    "    colors = [color_code(i) for i in states]\n",
    "\n",
    "    layout = nx.kamada_kawai_layout(model.network, weight=1.0, scale=10)\n",
    "    nx.draw_networkx(model.network, pos=layout, node_size = 100, arrowsize=5.0, width=1.0, node_color=colors, with_labels=False)"
   ]
  },
  {
   "cell_type": "code",
   "execution_count": 8,
   "metadata": {},
   "outputs": [
    {
     "name": "stderr",
     "output_type": "stream",
     "text": [
      "100%|██████████| 10000/10000 [00:51<00:00, 195.59it/s]\n"
     ]
    }
   ],
   "source": [
    "for i in tqdm(range(10000)):\n",
    "    #print(f\"i={i}\")\n",
    "    ##draw_network_discrete()\n",
    "    #draw_network()\n",
    "    #plt.show()\n",
    "    if i % 100 == 0 and False:\n",
    "        plt.hist([agent.state for agent in model.grid.get_all_cell_contents()], range=(0,1), bins=20)\n",
    "        plt.show()\n",
    "    model.step()"
   ]
  },
  {
   "cell_type": "code",
   "execution_count": 44,
   "metadata": {},
   "outputs": [
    {
     "name": "stderr",
     "output_type": "stream",
     "text": [
      "100%|██████████| 20/20 [02:03<00:00,  6.20s/it]\n"
     ]
    }
   ],
   "source": [
    "z = np.zeros((20,20))\n",
    "\n",
    "for i in tqdm(range(20)):\n",
    "    for j in range(20):\n",
    "        l, k, p, f = 6, 5, 0.1, 0.1 # RELAXED_CAVEMAN\n",
    "        network_params = (l, k, p, i/20)\n",
    "        initial_believers = 1.0\n",
    "        agent_params = OpinionAgent.Params(initial_opinion=0.25, weight_decay=0.0)\n",
    "        model = OpinionModel(j / 20, agent_params, network_type=NetworkType.RELAXED_CAVEMAN, network_params=network_params)\n",
    "        model.run(40)\n",
    "        z[i][j] = sum([agent.state for agent in model.grid.get_all_cell_contents()])/len([agent.state for agent in model.grid.get_all_cell_contents()])"
   ]
  },
  {
   "cell_type": "code",
   "execution_count": 39,
   "metadata": {},
   "outputs": [
    {
     "name": "stdout",
     "output_type": "stream",
     "text": [
      "[[0.00354962 0.00244033 0.00253757 0.00360899 0.00320181 0.00248505\n",
      "  0.00202427 0.03135923 0.00309356 0.15914232 0.00308604 0.00385469\n",
      "  0.00223819 0.15378904 0.57728136 0.00334143 0.00277623 0.0017825\n",
      "  0.57106949 0.7445456 ]\n",
      " [0.00398977 0.00363373 0.00303607 0.00434664 0.00278938 0.00289419\n",
      "  0.00370681 0.00365557 0.0031892  0.00283324 0.00307359 0.00188567\n",
      "  0.0026907  0.00301611 0.00304218 0.00287579 0.0025334  0.00364521\n",
      "  0.00429165 0.00266662]\n",
      " [0.00359837 0.00337293 0.00338798 0.00229394 0.00234929 0.00400837\n",
      "  0.00352727 0.00286185 0.00319689 0.00270308 0.00374574 0.00266078\n",
      "  0.00306059 0.00385992 0.00259183 0.00378706 0.00293843 0.00378172\n",
      "  0.88187476 0.90906283]\n",
      " [0.00260239 0.00294535 0.00409446 0.00257192 0.00360851 0.00293451\n",
      "  0.00418465 0.00183463 0.00232755 0.00240199 0.00360354 0.00284102\n",
      "  0.00379124 0.00306693 0.00364838 0.00306151 0.00259618 0.00188179\n",
      "  0.00270613 0.00169175]\n",
      " [0.00340504 0.00266919 0.00369092 0.0033576  0.002094   0.00339651\n",
      "  0.00311311 0.0024263  0.0027892  0.00380768 0.00320242 0.00385896\n",
      "  0.00211392 0.00276782 0.00347539 0.00289674 0.00284077 0.00243947\n",
      "  0.00208007 0.890795  ]\n",
      " [0.00278451 0.00234442 0.00287911 0.0038058  0.00307779 0.00361203\n",
      "  0.00305724 0.00237589 0.00274091 0.00267922 0.00325091 0.00297904\n",
      "  0.00309767 0.00273896 0.00431052 0.00328449 0.00376709 0.00233177\n",
      "  0.00193678 0.00237371]\n",
      " [0.00448822 0.00239475 0.0034678  0.036951   0.00166501 0.00353585\n",
      "  0.0032185  0.00295936 0.00264004 0.00259698 0.00370412 0.00344739\n",
      "  0.00292181 0.00300302 0.00258652 0.00299638 0.00315465 0.00330328\n",
      "  0.00294713 0.00326565]\n",
      " [0.00226309 0.00330562 0.00233193 0.00292537 0.00212105 0.03720729\n",
      "  0.00336309 0.00438517 0.00227901 0.00260343 0.00308989 0.00307366\n",
      "  0.00283046 0.00364292 0.00271393 0.00343766 0.00245919 0.00260155\n",
      "  0.90594577 0.00185661]\n",
      " [0.00347403 0.00279268 0.00293667 0.00328968 0.00327615 0.00384184\n",
      "  0.00362853 0.00276813 0.0025876  0.00361368 0.00445998 0.00301258\n",
      "  0.00224364 0.0029751  0.00234808 0.00275015 0.00378342 0.00188296\n",
      "  0.00339441 0.86932647]\n",
      " [0.00352554 0.00352923 0.00284998 0.00449436 0.00376081 0.00313836\n",
      "  0.0033001  0.00345356 0.00295236 0.00236599 0.00412643 0.00228505\n",
      "  0.0033398  0.00215649 0.00214305 0.00243887 0.00286314 0.00453876\n",
      "  0.00252214 0.90701473]\n",
      " [0.00265171 0.00297973 0.00294782 0.0030575  0.00293494 0.00355618\n",
      "  0.00281328 0.00270671 0.0044835  0.00410045 0.03509652 0.00220122\n",
      "  0.0038777  0.00344982 0.0032941  0.00258694 0.0030969  0.00208297\n",
      "  0.86582845 0.00220064]\n",
      " [0.00236077 0.00314429 0.00413514 0.00359182 0.00170282 0.0038797\n",
      "  0.00364495 0.00281477 0.00346372 0.0029257  0.0031044  0.00299849\n",
      "  0.00320834 0.00296362 0.00267613 0.00274005 0.00405763 0.00350387\n",
      "  0.0044924  0.875781  ]\n",
      " [0.00312582 0.00377713 0.00350056 0.00309911 0.00261465 0.0031428\n",
      "  0.00225956 0.00299867 0.00311591 0.00218913 0.0029057  0.00259713\n",
      "  0.00319734 0.00320598 0.00320491 0.00232525 0.00297874 0.00341128\n",
      "  0.00294075 0.0024406 ]\n",
      " [0.00230193 0.00303611 0.00339295 0.00304289 0.00395043 0.00326015\n",
      "  0.00183595 0.00263641 0.00182696 0.03237383 0.0021687  0.00141341\n",
      "  0.00243134 0.00279705 0.00252538 0.00311931 0.00276585 0.00261513\n",
      "  0.00349027 0.00288626]\n",
      " [0.0031719  0.00372201 0.00428712 0.00344367 0.00266021 0.00387092\n",
      "  0.00294725 0.00260109 0.00342299 0.00326893 0.0034468  0.00393896\n",
      "  0.00272964 0.00343277 0.00269625 0.00298675 0.00287362 0.0029204\n",
      "  0.0033055  0.00266482]\n",
      " [0.00415285 0.00331207 0.00330988 0.002442   0.00243946 0.00198966\n",
      "  0.00278843 0.00231196 0.00396841 0.00265967 0.00458346 0.00315844\n",
      "  0.00325942 0.00231529 0.00309499 0.00247653 0.00237108 0.00320497\n",
      "  0.84246266 0.00313917]\n",
      " [0.00206997 0.00273819 0.00293891 0.00244022 0.00226951 0.00238711\n",
      "  0.00270284 0.00301726 0.00459704 0.00403378 0.03449367 0.00271546\n",
      "  0.00305073 0.00313956 0.00221843 0.00370091 0.0024553  0.00265536\n",
      "  0.8672115  0.00178473]\n",
      " [0.00227814 0.00269779 0.00253655 0.0038607  0.00350388 0.00321014\n",
      "  0.00265143 0.02725574 0.00200404 0.0030694  0.00236061 0.00344708\n",
      "  0.0035333  0.00297363 0.0018411  0.00259533 0.00273389 0.85598923\n",
      "  0.00274688 0.84040274]\n",
      " [0.00324651 0.00412248 0.00337788 0.00272619 0.00332731 0.00434912\n",
      "  0.03295839 0.00282369 0.00308252 0.00230547 0.00197984 0.00276929\n",
      "  0.00298219 0.00358153 0.00311572 0.00326555 0.00289674 0.0020864\n",
      "  0.87794578 0.00291075]\n",
      " [0.00253192 0.00290438 0.00308392 0.00451139 0.00277209 0.00294744\n",
      "  0.00176396 0.00218973 0.00258049 0.00279138 0.00346168 0.00343323\n",
      "  0.00246597 0.00404472 0.00202096 0.0028039  0.00306925 0.00283539\n",
      "  0.00272608 0.00438672]]\n"
     ]
    }
   ],
   "source": [
    "print(z)"
   ]
  },
  {
   "cell_type": "code",
   "execution_count": 42,
   "metadata": {},
   "outputs": [],
   "source": [
    "def draw_phase_diagram(r):\n",
    "    x = np.linspace(0, 1, 20)\n",
    "    y = np.linspace(0, 100, 20)\n",
    "\n",
    "    \"\"\"\n",
    "    z = gaussian_filter(r, sigma=7, mode='wrap')\n",
    "    z -= np.min(z)\n",
    "    z /= np.max(z)\n",
    "    \"\"\"\n",
    "\n",
    "    z = r\n",
    "\n",
    "    fig, ax = plt.subplots()\n",
    "    cmap = ax.pcolormesh(x, y, z)\n",
    "    fig.colorbar(cmap)\n",
    "    plt.xlabel(\"fraction of edges that are not in the original graph\")\n",
    "    plt.ylabel(\"Number of initial believers\")\n",
    "    plt.show(fig)"
   ]
  },
  {
   "cell_type": "code",
   "execution_count": 43,
   "metadata": {},
   "outputs": [
    {
     "data": {
      "image/png": "[encoded data removed]",
      "text/plain": [
       "<Figure size 640x480 with 2 Axes>"
      ]
     },
     "metadata": {},
     "output_type": "display_data"
    }
   ],
   "source": [
    "draw_phase_diagram(z)"
   ]
  },
  {
   "cell_type": "code",
   "execution_count": 13,
   "metadata": {},
   "outputs": [
    {
     "data": {
      "image/png": "[encoded data removed]",
      "text/plain": [
       "<Figure size 640x480 with 1 Axes>"
      ]
     },
     "metadata": {},
     "output_type": "display_data"
    }
   ],
   "source": [
    "\n",
    "def draw_histogram():\n",
    "    # This is  the colormap I'd like to use.\n",
    "    cm = plt.cm.plasma\n",
    "\n",
    "    # Plot histogram.\n",
    "    n, bins, patches = plt.hist([agent.state for agent in model.grid.get_all_cell_contents()], range=(0,1), bins=20)\n",
    "    bin_centers = 0.5 * (bins[:-1] + bins[1:])\n",
    "\n",
    "    # scale values to interval [0,1]\n",
    "    col = bin_centers - min(bin_centers)\n",
    "    col /= max(col)\n",
    "\n",
    "    for c, p in zip(col, patches):\n",
    "        plt.setp(p, 'facecolor', cm(c))\n",
    "\n",
    "draw_histogram()"
   ]
  },
  {
   "cell_type": "code",
   "execution_count": 14,
   "metadata": {},
   "outputs": [
    {
     "data": {
      "text/plain": [
       "[0.9297054761486526,\n",
       " 0.8585991077929945,\n",
       " 0.8958484446462404,\n",
       " 0.9150663764811409,\n",
       " 0.8971786660000074,\n",
       " 0.8876938482239293,\n",
       " 0.9092434238382537,\n",
       " 0.8504453814681933,\n",
       " 0.9550478261943752,\n",
       " 0.9233119332661767,\n",
       " 0.911243663747288,\n",
       " 0.9365756796130061,\n",
       " 0.8344112326200864,\n",
       " 0.9551539769625155,\n",
       " 0.7666796972177625,\n",
       " 0.7031737987942007,\n",
       " 0.8773233521690141,\n",
       " 0.866876474708198,\n",
       " 0.8737421396579924,\n",
       " 0.9378816693863182,\n",
       " 0.9094310119249208,\n",
       " 0.7991281421663112,\n",
       " 0.9196519926175529,\n",
       " 0.8789508001961018,\n",
       " 0.7598444840293129,\n",
       " 0.8818030369364708,\n",
       " 0.9184052650619745,\n",
       " 0.8591415289831529,\n",
       " 0.9546087034048146,\n",
       " 0.9109004292374863]"
      ]
     },
     "execution_count": 14,
     "metadata": {},
     "output_type": "execute_result"
    }
   ],
   "source": [
    "[agent.state for agent in model.grid.get_all_cell_contents()]"
   ]
  },
  {
   "cell_type": "code",
   "execution_count": 15,
   "metadata": {},
   "outputs": [],
   "source": [
    "#not used anymore\n",
    "def plot_network_visualization(model: OpinionModel):\n",
    "    color_code = ListedColormap(['#1f77b4', '#ff7f0e', '#2ca02c'])\n",
    "    states = [int(i.state) for i in model.grid.get_all_cell_contents()]\n",
    "    colors = [color_code(i) for i in states]\n",
    "    nx.draw_kamada_kawai(model.network, node_size = 100, edge_color = 'black', node_color = colors)"
   ]
  },
  {
   "cell_type": "code",
   "execution_count": 16,
   "metadata": {
    "collapsed": false,
    "pycharm": {
     "name": "#%%\n"
    }
   },
   "outputs": [],
   "source": [
    "#pass the model, run it, and plot it - not used here \n",
    "def driver(network_type, *params, initial_believers, initial_opinion, weight_decay):\n",
    "    model = create_model(network_type, params, initial_believers = initial_believers, initial_opinion = initial_opinion, weight_decay = weight_decay)\n",
    "    model.run(40)\n",
    "    plot_agent_opinion(model)\n",
    "    return model"
   ]
  },
  {
   "cell_type": "code",
   "execution_count": 17,
   "metadata": {},
   "outputs": [],
   "source": [
    "#not used here\n",
    "def plot_network(model):\n",
    "    plot_network_visualization(model)"
   ]
  },
  {
   "cell_type": "code",
   "execution_count": 18,
   "metadata": {},
   "outputs": [
    {
     "data": {
      "text/plain": [
       "'\\noutcome_matrix = np.zeros((100,100))\\n\\nfor i in range (100):\\n    for j in range (100):\\n        model = driver(NetworkType.CAVEMAN, 5, 10, initial_believers = i / 100, p_opinion_change = j / 100)\\n        outcome_matrix[i][j] = 0\\nmodel = driver(NetworkType.CAVEMAN, 5, 10, initial_believers = 0.3, initial_opinion=0.9, weight_decay=0.1)\\n'"
      ]
     },
     "execution_count": 18,
     "metadata": {},
     "output_type": "execute_result"
    }
   ],
   "source": [
    "\"\"\"\n",
    "outcome_matrix = np.zeros((100,100))\n",
    "\n",
    "for i in range (100):\n",
    "    for j in range (100):\n",
    "        model = driver(NetworkType.CAVEMAN, 5, 10, initial_believers = i / 100, p_opinion_change = j / 100)\n",
    "        outcome_matrix[i][j] = 0\n",
    "model = driver(NetworkType.CAVEMAN, 5, 10, initial_believers = 0.3, initial_opinion=0.9, weight_decay=0.1)\n",
    "\"\"\""
   ]
  },
  {
   "cell_type": "code",
   "execution_count": 19,
   "metadata": {},
   "outputs": [],
   "source": [
    "def phase_diagram(model):\n",
    "    z = [agent.state for agent in model.grid.get_all_cell_contents()]\n",
    "    "
   ]
  }
 ],
 "metadata": {
  "kernelspec": {
   "display_name": "Python 3.10.4 ('ortools')",
   "language": "python",
   "name": "python3"
  },
  "language_info": {
   "codemirror_mode": {
    "name": "ipython",
    "version": 3
   },
   "file_extension": ".py",
   "mimetype": "text/x-python",
   "name": "python",
   "nbconvert_exporter": "python",
   "pygments_lexer": "ipython3",
   "version": "3.10.8"
  },
  "vscode": {
   "interpreter": {
    "hash": "3ce8f04bc0b339b2b041da0c11435a3f03a2b2b2f9f003ce8d2a2e5e499269ac"
   }
  }
 },
 "nbformat": 4,
 "nbformat_minor": 0
}
