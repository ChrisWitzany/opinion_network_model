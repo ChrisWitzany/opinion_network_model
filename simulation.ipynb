{
 "cells": [
  {
   "cell_type": "code",
   "execution_count": 1,
   "metadata": {
    "collapsed": true
   },
   "outputs": [],
   "source": [
    "import random\n",
    "import time\n",
    "import enum\n",
    "import math\n",
    "from collections import namedtuple\n",
    "from multiprocessing.pool import Pool\n",
    "from typing import Tuple, NamedTuple, List\n",
    "from tqdm import tqdm\n",
    "\n",
    "import numpy as np\n",
    "import pandas as pd\n",
    "import pylab as plt\n",
    "import networkx as nx\n",
    "from matplotlib.colors import ListedColormap, LinearSegmentedColormap\n",
    "import matplotlib as mpl\n",
    "from scipy.ndimage.filters import gaussian_filter\n",
    "\n",
    "from networkgen import Network, NetworkType\n",
    "from model import OpinionModel, OpinionAgent, Opinion"
   ]
  },
  {
   "cell_type": "code",
   "execution_count": 2,
   "metadata": {},
   "outputs": [],
   "source": [
    "#n, p = 100, 0.3 # DEFAULT\n",
    "#n, k, p = 100, 10, 0.2 # SMALLWORLD\n",
    "#l, k = 10, 5 # CAVEMAN\n",
    "#n, s, v, p_in, p_out = 100, 5, 10, 0.3, 0.1 # GAUSSIAN_RANDOM_PARTITION\n",
    "#n, k = 100, 10 # WINDMILL\n",
    "#n, p = 100, 0.02  # ERDOS_RENYI\n",
    "l, k, p, f = 6, 5, 0.1, 0.1 # RELAXED_CAVEMAN\n",
    "\n",
    "network_params = (l, k, p, f)\n",
    "initial_believers = 1.0\n",
    "agent_params = OpinionAgent.Params(initial_opinion=0.25, weight_decay=0.0)\n",
    "model = OpinionModel(initial_believers, agent_params, network_type=NetworkType.RELAXED_CAVEMAN, network_params=network_params)"
   ]
  },
  {
   "cell_type": "code",
   "execution_count": 3,
   "metadata": {},
   "outputs": [],
   "source": [
    "model.run(40)\n"
   ]
  },
  {
   "cell_type": "code",
   "execution_count": 4,
   "metadata": {},
   "outputs": [],
   "source": [
    "#not used anymore\n",
    "def create_model(network_type, *network_params, initial_believers: float, initial_opinion, weight_decay):\n",
    "    #n = len(Network.generate(network_type, *params).nodes)\n",
    "    agent_params = OpinionAgent.Params(initial_opinion, weight_decay)\n",
    "    return OpinionModel(initial_believers, agent_params, network_type, *network_params)"
   ]
  },
  {
   "cell_type": "code",
   "execution_count": 5,
   "metadata": {
    "collapsed": false,
    "pycharm": {
     "name": "#%%\n"
    }
   },
   "outputs": [],
   "source": [
    "def sum_agents(model):\n",
    "\n",
    "    agent_data = model.data_collector.get_agent_vars_dataframe()\n",
    "    # sum up different opinions each (time) step\n",
    "    agents_summed = pd.pivot_table(agent_data.reset_index(), index = 'Step', columns = 'State', aggfunc = np.size, fill_value = 0)\n",
    "    # relabel\n",
    "    labels = ['Disagree','Believer','Unsure']\n",
    "    agents_summed.columns = labels[:len(agents_summed.columns)]\n",
    "    return agents_summed\n",
    "\n",
    "def plot_agent_opinion(model):\n",
    "    steps = model.schedule.steps\n",
    "    X = sum_agents(model)\n",
    "    X.plot(lw = 4, alpha = 0.8)"
   ]
  },
  {
   "cell_type": "code",
   "execution_count": 6,
   "metadata": {},
   "outputs": [],
   "source": [
    "def draw_network(with_labels=False):\n",
    "    node_color = [i.state for i in model.grid.get_all_cell_contents()]\n",
    "    edge_weights = [model.network.edges[u, v]['weight'] for u, v in model.network.edges]\n",
    "    #layout = nx.kamada_kawai_layout(model.network, weight=1.0, scale=10)\n",
    "    dummy = nx.connected_caveman_graph(7, 5)\n",
    "    layout=nx.circular_layout(model.network)\n",
    "    #layout = nx.circular_layout(model.network, scale=10)\n",
    "    nx.draw_networkx(model.network, pos=layout, node_size = 100, arrowsize=5.0, edge_cmap=plt.cm.binary, edge_color=edge_weights, node_color=node_color, cmap=plt.cm.plasma, edge_vmin=0.0, edge_vmax=1.0, vmin=0.0,vmax=1.0, with_labels=with_labels, labels={i: f\"{node_color[i]:.2f}\" for i in range(len(node_color))})\n",
    "    plt.colorbar(plt.cm.ScalarMappable(norm=mpl.colors.Normalize(0,1), cmap=plt.cm.plasma))"
   ]
  },
  {
   "cell_type": "code",
   "execution_count": 7,
   "metadata": {},
   "outputs": [],
   "source": [
    "def draw_network_discrete():\n",
    "    color_code = ListedColormap(['#1f77b4', '#ff7f0e', '#2ca02c'])\n",
    "\n",
    "    states = [int(i.state) for i in model.grid.get_all_cell_contents()]\n",
    "\n",
    "    colors = [color_code(i) for i in states]\n",
    "\n",
    "    layout = nx.kamada_kawai_layout(model.network, weight=1.0, scale=10)\n",
    "    nx.draw_networkx(model.network, pos=layout, node_size = 100, arrowsize=5.0, width=1.0, node_color=colors, with_labels=False)"
   ]
  },
  {
   "cell_type": "code",
   "execution_count": 8,
   "metadata": {},
   "outputs": [
    {
     "name": "stderr",
     "output_type": "stream",
     "text": [
      "100%|██████████| 10000/10000 [00:51<00:00, 195.59it/s]\n"
     ]
    }
   ],
   "source": [
    "for i in tqdm(range(10000)):\n",
    "    #print(f\"i={i}\")\n",
    "    ##draw_network_discrete()\n",
    "    #draw_network()\n",
    "    #plt.show()\n",
    "    if i % 100 == 0 and False:\n",
    "        plt.hist([agent.state for agent in model.grid.get_all_cell_contents()], range=(0,1), bins=20)\n",
    "        plt.show()\n",
    "    model.step()"
   ]
  },
  {
   "cell_type": "code",
   "execution_count": 50,
   "metadata": {},
   "outputs": [
    {
     "name": "stderr",
     "output_type": "stream",
     "text": [
      "100%|██████████| 20/20 [02:10<00:00,  6.51s/it]\n"
     ]
    }
   ],
   "source": [
    "z = np.zeros((20,20))\n",
    "\n",
    "for i in tqdm(range(20)):\n",
    "    for j in range(20):\n",
    "        l, k, p, f = 6, 5, 0.1, 0.1 # RELAXED_CAVEMAN\n",
    "        network_params = (l, k, p, i/20)\n",
    "        initial_believers = 1.0\n",
    "        agent_params = OpinionAgent.Params(initial_opinion=0.25, weight_decay=0.0)\n",
    "        model = OpinionModel(j / 20, agent_params, network_type=NetworkType.RELAXED_CAVEMAN, network_params=network_params)\n",
    "        model.run(40)\n",
    "        z[i][j] = sum([agent.state for agent in model.grid.get_all_cell_contents()])/len([agent.state for agent in model.grid.get_all_cell_contents()])"
   ]
  },
  {
   "cell_type": "code",
   "execution_count": 51,
   "metadata": {},
   "outputs": [
    {
     "name": "stdout",
     "output_type": "stream",
     "text": [
      "[[0.00198465 0.00395224 0.00365494 0.00393041 0.00213149 0.00244469\n",
      "  0.00313602 0.00328107 0.00210662 0.00263542 0.00339725 0.14587933\n",
      "  0.15759543 0.14905252 0.00324447 0.00335335 0.2843447  0.00322454\n",
      "  0.86111376 0.44589597]\n",
      " [0.00190365 0.00336908 0.00394432 0.00266737 0.00366566 0.00402428\n",
      "  0.00330093 0.00343919 0.00314642 0.00250058 0.00375019 0.00245559\n",
      "  0.00329452 0.00304072 0.00260498 0.00187347 0.00348055 0.00352733\n",
      "  0.00377592 0.00489351]\n",
      " [0.00328662 0.00310517 0.00347036 0.00210691 0.00248918 0.0027622\n",
      "  0.00336361 0.00280031 0.00262431 0.00289263 0.00307915 0.0044768\n",
      "  0.00391878 0.0028934  0.00345973 0.0028846  0.00258517 0.0025811\n",
      "  0.00307089 0.00354973]\n",
      " [0.00313114 0.00325458 0.00232368 0.00459329 0.00181793 0.00304841\n",
      "  0.00282293 0.00300497 0.00325313 0.02690987 0.00403382 0.00257907\n",
      "  0.00311273 0.00253658 0.00192831 0.00325164 0.00300859 0.00394648\n",
      "  0.9037705  0.00262775]\n",
      " [0.00287735 0.00258864 0.00296815 0.00227967 0.00195212 0.00260273\n",
      "  0.00340835 0.00242534 0.00292074 0.00341017 0.00246223 0.00345194\n",
      "  0.00288115 0.00250735 0.00197642 0.00331607 0.00326425 0.00277123\n",
      "  0.88675354 0.00412785]\n",
      " [0.00242357 0.00283966 0.00363708 0.00265074 0.00343979 0.00291462\n",
      "  0.00253298 0.00290099 0.00203072 0.00274847 0.00331978 0.00233399\n",
      "  0.00297054 0.00188454 0.0028898  0.00277911 0.00211353 0.87638441\n",
      "  0.00223741 0.85717177]\n",
      " [0.002739   0.00302981 0.00351035 0.00305666 0.00280376 0.00305362\n",
      "  0.00251751 0.00362337 0.00412543 0.00211988 0.00313162 0.0017363\n",
      "  0.00344272 0.002195   0.00202592 0.00361874 0.00259816 0.00296515\n",
      "  0.00335686 0.87001804]\n",
      " [0.00328537 0.00357424 0.00267402 0.00265523 0.00166876 0.00390102\n",
      "  0.00287653 0.00300078 0.00301022 0.00348924 0.00290125 0.00307595\n",
      "  0.00199336 0.00289664 0.0034461  0.00223399 0.00319225 0.00354793\n",
      "  0.83542766 0.00376489]\n",
      " [0.00214937 0.00353212 0.00286863 0.00169317 0.0041046  0.00270523\n",
      "  0.00304257 0.00320809 0.00257976 0.0018518  0.00256189 0.00323617\n",
      "  0.00343542 0.00259787 0.00347195 0.00265791 0.00222722 0.00289451\n",
      "  0.00539566 0.00257892]\n",
      " [0.00250091 0.0027564  0.00264472 0.00290745 0.00322122 0.00419337\n",
      "  0.00237619 0.00270887 0.00345823 0.0021318  0.00356575 0.0035233\n",
      "  0.00270727 0.00264265 0.00423377 0.0038934  0.00345687 0.00281995\n",
      "  0.8576504  0.90550709]\n",
      " [0.00169398 0.0024826  0.00427298 0.0034166  0.00205363 0.00335642\n",
      "  0.00224601 0.00235621 0.00228534 0.03535544 0.00283609 0.00311975\n",
      "  0.00290953 0.00288095 0.00219405 0.00380199 0.00375697 0.00209209\n",
      "  0.85013114 0.00279763]\n",
      " [0.00345601 0.00305425 0.0021173  0.00245553 0.00201397 0.00208837\n",
      "  0.00242155 0.00207303 0.00446618 0.00384095 0.00265616 0.03723732\n",
      "  0.00286874 0.00348048 0.00384556 0.00217102 0.00333563 0.00192418\n",
      "  0.00283408 0.00207518]\n",
      " [0.00304265 0.00265158 0.00273842 0.00219081 0.00403069 0.0019345\n",
      "  0.00330435 0.00231079 0.00336113 0.00326972 0.00352053 0.00252813\n",
      "  0.0020957  0.00205793 0.00249768 0.00295788 0.897151   0.00226245\n",
      "  0.00218351 0.0020182 ]\n",
      " [0.00288034 0.0031598  0.00300524 0.00248257 0.00274184 0.00219972\n",
      "  0.00462268 0.00254668 0.00209263 0.00250346 0.00343261 0.00306799\n",
      "  0.00240042 0.00278482 0.0031539  0.00329592 0.00324107 0.00260896\n",
      "  0.00313816 0.89549042]\n",
      " [0.00302243 0.0044029  0.00319519 0.0027876  0.0038969  0.00260393\n",
      "  0.00316693 0.00226103 0.00235557 0.00362541 0.0017448  0.00228828\n",
      "  0.00260518 0.00250255 0.00322549 0.00280303 0.00298616 0.002468\n",
      "  0.00261018 0.90441752]\n",
      " [0.00315392 0.00330371 0.00278361 0.00418316 0.00317531 0.00311264\n",
      "  0.00289078 0.00223816 0.00301057 0.00350545 0.0021074  0.00163853\n",
      "  0.00315713 0.00281176 0.0031803  0.00393124 0.00294475 0.8574455\n",
      "  0.00269547 0.00296559]\n",
      " [0.00409575 0.00220328 0.0044234  0.00231253 0.00235063 0.00213782\n",
      "  0.00377112 0.00310144 0.00338294 0.00199714 0.00244613 0.00346523\n",
      "  0.00289204 0.00191007 0.00159349 0.00264963 0.00270343 0.00344946\n",
      "  0.00250793 0.88621507]\n",
      " [0.00390273 0.00158653 0.00313791 0.00386895 0.00217087 0.00305509\n",
      "  0.00255387 0.00276224 0.00265778 0.00231398 0.00251485 0.00348849\n",
      "  0.00298936 0.00333438 0.00321605 0.00234485 0.00141504 0.00312833\n",
      "  0.87730463 0.88291198]\n",
      " [0.00383804 0.0026071  0.00314699 0.00320945 0.00292277 0.00391015\n",
      "  0.00296569 0.00278122 0.00355344 0.00252758 0.00264487 0.00267974\n",
      "  0.00262145 0.00316355 0.00334866 0.00320862 0.00260411 0.00208269\n",
      "  0.00328695 0.00273692]\n",
      " [0.00287936 0.00244581 0.0032724  0.00317893 0.00213297 0.00338497\n",
      "  0.00382406 0.00263479 0.00178305 0.00360282 0.0027589  0.00338862\n",
      "  0.00428082 0.00285875 0.00292591 0.00299179 0.89613637 0.00249633\n",
      "  0.86614231 0.0026493 ]]\n"
     ]
    }
   ],
   "source": [
    "print(z)"
   ]
  },
  {
   "cell_type": "code",
   "execution_count": 52,
   "metadata": {},
   "outputs": [],
   "source": [
    "def draw_phase_diagram(r):\n",
    "    x = np.linspace(0, 1, 20)\n",
    "    y = np.linspace(0, 100, 20)\n",
    "\n",
    "    \"\"\"\n",
    "    z = gaussian_filter(r, sigma=7, mode='wrap')\n",
    "    z -= np.min(z)\n",
    "    z /= np.max(z)\n",
    "    \"\"\"\n",
    "\n",
    "    #\n",
    "    z = r\n",
    "\n",
    "    fig, ax = plt.subplots()\n",
    "    cmap = ax.pcolormesh(x, y, z)\n",
    "    fig.colorbar(cmap)\n",
    "    plt.xlabel(\"fraction of edges that are not in the original graph\")\n",
    "    plt.ylabel(\"Number of initial believers\")\n",
    "    plt.show(fig)"
   ]
  },
  {
   "cell_type": "code",
   "execution_count": 53,
   "metadata": {},
   "outputs": [
    {
     "data": {
      "image/png": "[encoded data removed]",
      "text/plain": [
       "<Figure size 640x480 with 2 Axes>"
      ]
     },
     "metadata": {},
     "output_type": "display_data"
    }
   ],
   "source": [
    "draw_phase_diagram(z)"
   ]
  },
  {
   "cell_type": "code",
   "execution_count": 13,
   "metadata": {},
   "outputs": [
    {
     "data": {
      "image/png": "[encoded data removed]",
      "text/plain": [
       "<Figure size 640x480 with 1 Axes>"
      ]
     },
     "metadata": {},
     "output_type": "display_data"
    }
   ],
   "source": [
    "\n",
    "def draw_histogram():\n",
    "    # This is  the colormap I'd like to use.\n",
    "    cm = plt.cm.plasma\n",
    "\n",
    "    # Plot histogram.\n",
    "    n, bins, patches = plt.hist([agent.state for agent in model.grid.get_all_cell_contents()], range=(0,1), bins=20)\n",
    "    bin_centers = 0.5 * (bins[:-1] + bins[1:])\n",
    "\n",
    "    # scale values to interval [0,1]\n",
    "    col = bin_centers - min(bin_centers)\n",
    "    col /= max(col)\n",
    "\n",
    "    for c, p in zip(col, patches):\n",
    "        plt.setp(p, 'facecolor', cm(c))\n",
    "\n",
    "draw_histogram()"
   ]
  },
  {
   "cell_type": "code",
   "execution_count": 14,
   "metadata": {},
   "outputs": [
    {
     "data": {
      "text/plain": [
       "[0.9297054761486526,\n",
       " 0.8585991077929945,\n",
       " 0.8958484446462404,\n",
       " 0.9150663764811409,\n",
       " 0.8971786660000074,\n",
       " 0.8876938482239293,\n",
       " 0.9092434238382537,\n",
       " 0.8504453814681933,\n",
       " 0.9550478261943752,\n",
       " 0.9233119332661767,\n",
       " 0.911243663747288,\n",
       " 0.9365756796130061,\n",
       " 0.8344112326200864,\n",
       " 0.9551539769625155,\n",
       " 0.7666796972177625,\n",
       " 0.7031737987942007,\n",
       " 0.8773233521690141,\n",
       " 0.866876474708198,\n",
       " 0.8737421396579924,\n",
       " 0.9378816693863182,\n",
       " 0.9094310119249208,\n",
       " 0.7991281421663112,\n",
       " 0.9196519926175529,\n",
       " 0.8789508001961018,\n",
       " 0.7598444840293129,\n",
       " 0.8818030369364708,\n",
       " 0.9184052650619745,\n",
       " 0.8591415289831529,\n",
       " 0.9546087034048146,\n",
       " 0.9109004292374863]"
      ]
     },
     "execution_count": 14,
     "metadata": {},
     "output_type": "execute_result"
    }
   ],
   "source": [
    "[agent.state for agent in model.grid.get_all_cell_contents()]"
   ]
  },
  {
   "cell_type": "code",
   "execution_count": 15,
   "metadata": {},
   "outputs": [],
   "source": [
    "#not used anymore\n",
    "def plot_network_visualization(model: OpinionModel):\n",
    "    color_code = ListedColormap(['#1f77b4', '#ff7f0e', '#2ca02c'])\n",
    "    states = [int(i.state) for i in model.grid.get_all_cell_contents()]\n",
    "    colors = [color_code(i) for i in states]\n",
    "    nx.draw_kamada_kawai(model.network, node_size = 100, edge_color = 'black', node_color = colors)"
   ]
  },
  {
   "cell_type": "code",
   "execution_count": 16,
   "metadata": {
    "collapsed": false,
    "pycharm": {
     "name": "#%%\n"
    }
   },
   "outputs": [],
   "source": [
    "#pass the model, run it, and plot it - not used here \n",
    "def driver(network_type, *params, initial_believers, initial_opinion, weight_decay):\n",
    "    model = create_model(network_type, params, initial_believers = initial_believers, initial_opinion = initial_opinion, weight_decay = weight_decay)\n",
    "    model.run(40)\n",
    "    plot_agent_opinion(model)\n",
    "    return model"
   ]
  },
  {
   "cell_type": "code",
   "execution_count": 17,
   "metadata": {},
   "outputs": [],
   "source": [
    "#not used here\n",
    "def plot_network(model):\n",
    "    plot_network_visualization(model)"
   ]
  },
  {
   "cell_type": "code",
   "execution_count": 19,
   "metadata": {},
   "outputs": [],
   "source": [
    "def phase_diagram(model):\n",
    "    z = [agent.state for agent in model.grid.get_all_cell_contents()]\n",
    "    "
   ]
  }
 ],
 "metadata": {
  "kernelspec": {
   "display_name": "Python 3.10.4 ('ortools')",
   "language": "python",
   "name": "python3"
  },
  "language_info": {
   "codemirror_mode": {
    "name": "ipython",
    "version": 3
   },
   "file_extension": ".py",
   "mimetype": "text/x-python",
   "name": "python",
   "nbconvert_exporter": "python",
   "pygments_lexer": "ipython3",
   "version": "3.10.8"
  },
  "vscode": {
   "interpreter": {
    "hash": "3ce8f04bc0b339b2b041da0c11435a3f03a2b2b2f9f003ce8d2a2e5e499269ac"
   }
  }
 },
 "nbformat": 4,
 "nbformat_minor": 0
}
